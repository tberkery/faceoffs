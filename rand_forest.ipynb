{
 "cells": [
  {
   "cell_type": "code",
   "execution_count": 37,
   "outputs": [],
   "source": [
    "from sklearn.model_selection import train_test_split\n",
    "from sklearn.ensemble import RandomForestRegressor\n",
    "from sklearn.metrics import mean_squared_error\n",
    "from sklearn.model_selection import GridSearchCV\n",
    "from sklearn.decomposition import PCA\n",
    "from datetime import datetime\n",
    "from sklearn.model_selection import RandomizedSearchCV\n",
    "from joblib import dump, load\n",
    "import pandas as pd\n",
    "import numpy as np\n",
    "import matplotlib.pyplot as plt\n",
    "import seaborn as sns"
   ],
   "metadata": {
    "collapsed": false
   }
  },
  {
   "cell_type": "code",
   "execution_count": 38,
   "outputs": [
    {
     "ename": "ParserError",
     "evalue": "Error tokenizing data. C error: Calling read(nbytes) on source failed. Try engine='python'.",
     "output_type": "error",
     "traceback": [
      "\u001B[1;31m---------------------------------------------------------------------------\u001B[0m",
      "\u001B[1;31mParserError\u001B[0m                               Traceback (most recent call last)",
      "Cell \u001B[1;32mIn[38], line 1\u001B[0m\n\u001B[1;32m----> 1\u001B[0m data \u001B[38;5;241m=\u001B[39m \u001B[43mpd\u001B[49m\u001B[38;5;241;43m.\u001B[39;49m\u001B[43mread_csv\u001B[49m\u001B[43m(\u001B[49m\u001B[38;5;124;43m'\u001B[39;49m\u001B[38;5;124;43mC:/Users/Tad/Documents/faceoffs/data_imputed_with_event_zone.csv\u001B[39;49m\u001B[38;5;124;43m'\u001B[39;49m\u001B[43m)\u001B[49m\n\u001B[0;32m      2\u001B[0m \u001B[38;5;28mprint\u001B[39m(\u001B[38;5;124m\"\u001B[39m\u001B[38;5;124mdata read\u001B[39m\u001B[38;5;124m\"\u001B[39m)\n",
      "File \u001B[1;32m~\\PycharmProjects\\faceoffs\\venv\\lib\\site-packages\\pandas\\util\\_decorators.py:211\u001B[0m, in \u001B[0;36mdeprecate_kwarg.<locals>._deprecate_kwarg.<locals>.wrapper\u001B[1;34m(*args, **kwargs)\u001B[0m\n\u001B[0;32m    209\u001B[0m     \u001B[38;5;28;01melse\u001B[39;00m:\n\u001B[0;32m    210\u001B[0m         kwargs[new_arg_name] \u001B[38;5;241m=\u001B[39m new_arg_value\n\u001B[1;32m--> 211\u001B[0m \u001B[38;5;28;01mreturn\u001B[39;00m func(\u001B[38;5;241m*\u001B[39margs, \u001B[38;5;241m*\u001B[39m\u001B[38;5;241m*\u001B[39mkwargs)\n",
      "File \u001B[1;32m~\\PycharmProjects\\faceoffs\\venv\\lib\\site-packages\\pandas\\util\\_decorators.py:331\u001B[0m, in \u001B[0;36mdeprecate_nonkeyword_arguments.<locals>.decorate.<locals>.wrapper\u001B[1;34m(*args, **kwargs)\u001B[0m\n\u001B[0;32m    325\u001B[0m \u001B[38;5;28;01mif\u001B[39;00m \u001B[38;5;28mlen\u001B[39m(args) \u001B[38;5;241m>\u001B[39m num_allow_args:\n\u001B[0;32m    326\u001B[0m     warnings\u001B[38;5;241m.\u001B[39mwarn(\n\u001B[0;32m    327\u001B[0m         msg\u001B[38;5;241m.\u001B[39mformat(arguments\u001B[38;5;241m=\u001B[39m_format_argument_list(allow_args)),\n\u001B[0;32m    328\u001B[0m         \u001B[38;5;167;01mFutureWarning\u001B[39;00m,\n\u001B[0;32m    329\u001B[0m         stacklevel\u001B[38;5;241m=\u001B[39mfind_stack_level(),\n\u001B[0;32m    330\u001B[0m     )\n\u001B[1;32m--> 331\u001B[0m \u001B[38;5;28;01mreturn\u001B[39;00m func(\u001B[38;5;241m*\u001B[39margs, \u001B[38;5;241m*\u001B[39m\u001B[38;5;241m*\u001B[39mkwargs)\n",
      "File \u001B[1;32m~\\PycharmProjects\\faceoffs\\venv\\lib\\site-packages\\pandas\\io\\parsers\\readers.py:950\u001B[0m, in \u001B[0;36mread_csv\u001B[1;34m(filepath_or_buffer, sep, delimiter, header, names, index_col, usecols, squeeze, prefix, mangle_dupe_cols, dtype, engine, converters, true_values, false_values, skipinitialspace, skiprows, skipfooter, nrows, na_values, keep_default_na, na_filter, verbose, skip_blank_lines, parse_dates, infer_datetime_format, keep_date_col, date_parser, dayfirst, cache_dates, iterator, chunksize, compression, thousands, decimal, lineterminator, quotechar, quoting, doublequote, escapechar, comment, encoding, encoding_errors, dialect, error_bad_lines, warn_bad_lines, on_bad_lines, delim_whitespace, low_memory, memory_map, float_precision, storage_options)\u001B[0m\n\u001B[0;32m    935\u001B[0m kwds_defaults \u001B[38;5;241m=\u001B[39m _refine_defaults_read(\n\u001B[0;32m    936\u001B[0m     dialect,\n\u001B[0;32m    937\u001B[0m     delimiter,\n\u001B[1;32m   (...)\u001B[0m\n\u001B[0;32m    946\u001B[0m     defaults\u001B[38;5;241m=\u001B[39m{\u001B[38;5;124m\"\u001B[39m\u001B[38;5;124mdelimiter\u001B[39m\u001B[38;5;124m\"\u001B[39m: \u001B[38;5;124m\"\u001B[39m\u001B[38;5;124m,\u001B[39m\u001B[38;5;124m\"\u001B[39m},\n\u001B[0;32m    947\u001B[0m )\n\u001B[0;32m    948\u001B[0m kwds\u001B[38;5;241m.\u001B[39mupdate(kwds_defaults)\n\u001B[1;32m--> 950\u001B[0m \u001B[38;5;28;01mreturn\u001B[39;00m \u001B[43m_read\u001B[49m\u001B[43m(\u001B[49m\u001B[43mfilepath_or_buffer\u001B[49m\u001B[43m,\u001B[49m\u001B[43m \u001B[49m\u001B[43mkwds\u001B[49m\u001B[43m)\u001B[49m\n",
      "File \u001B[1;32m~\\PycharmProjects\\faceoffs\\venv\\lib\\site-packages\\pandas\\io\\parsers\\readers.py:611\u001B[0m, in \u001B[0;36m_read\u001B[1;34m(filepath_or_buffer, kwds)\u001B[0m\n\u001B[0;32m    608\u001B[0m     \u001B[38;5;28;01mreturn\u001B[39;00m parser\n\u001B[0;32m    610\u001B[0m \u001B[38;5;28;01mwith\u001B[39;00m parser:\n\u001B[1;32m--> 611\u001B[0m     \u001B[38;5;28;01mreturn\u001B[39;00m \u001B[43mparser\u001B[49m\u001B[38;5;241;43m.\u001B[39;49m\u001B[43mread\u001B[49m\u001B[43m(\u001B[49m\u001B[43mnrows\u001B[49m\u001B[43m)\u001B[49m\n",
      "File \u001B[1;32m~\\PycharmProjects\\faceoffs\\venv\\lib\\site-packages\\pandas\\io\\parsers\\readers.py:1778\u001B[0m, in \u001B[0;36mTextFileReader.read\u001B[1;34m(self, nrows)\u001B[0m\n\u001B[0;32m   1771\u001B[0m nrows \u001B[38;5;241m=\u001B[39m validate_integer(\u001B[38;5;124m\"\u001B[39m\u001B[38;5;124mnrows\u001B[39m\u001B[38;5;124m\"\u001B[39m, nrows)\n\u001B[0;32m   1772\u001B[0m \u001B[38;5;28;01mtry\u001B[39;00m:\n\u001B[0;32m   1773\u001B[0m     \u001B[38;5;66;03m# error: \"ParserBase\" has no attribute \"read\"\u001B[39;00m\n\u001B[0;32m   1774\u001B[0m     (\n\u001B[0;32m   1775\u001B[0m         index,\n\u001B[0;32m   1776\u001B[0m         columns,\n\u001B[0;32m   1777\u001B[0m         col_dict,\n\u001B[1;32m-> 1778\u001B[0m     ) \u001B[38;5;241m=\u001B[39m \u001B[38;5;28;43mself\u001B[39;49m\u001B[38;5;241;43m.\u001B[39;49m\u001B[43m_engine\u001B[49m\u001B[38;5;241;43m.\u001B[39;49m\u001B[43mread\u001B[49m\u001B[43m(\u001B[49m\u001B[43m  \u001B[49m\u001B[38;5;66;43;03m# type: ignore[attr-defined]\u001B[39;49;00m\n\u001B[0;32m   1779\u001B[0m \u001B[43m        \u001B[49m\u001B[43mnrows\u001B[49m\n\u001B[0;32m   1780\u001B[0m \u001B[43m    \u001B[49m\u001B[43m)\u001B[49m\n\u001B[0;32m   1781\u001B[0m \u001B[38;5;28;01mexcept\u001B[39;00m \u001B[38;5;167;01mException\u001B[39;00m:\n\u001B[0;32m   1782\u001B[0m     \u001B[38;5;28mself\u001B[39m\u001B[38;5;241m.\u001B[39mclose()\n",
      "File \u001B[1;32m~\\PycharmProjects\\faceoffs\\venv\\lib\\site-packages\\pandas\\io\\parsers\\c_parser_wrapper.py:230\u001B[0m, in \u001B[0;36mCParserWrapper.read\u001B[1;34m(self, nrows)\u001B[0m\n\u001B[0;32m    228\u001B[0m \u001B[38;5;28;01mtry\u001B[39;00m:\n\u001B[0;32m    229\u001B[0m     \u001B[38;5;28;01mif\u001B[39;00m \u001B[38;5;28mself\u001B[39m\u001B[38;5;241m.\u001B[39mlow_memory:\n\u001B[1;32m--> 230\u001B[0m         chunks \u001B[38;5;241m=\u001B[39m \u001B[38;5;28;43mself\u001B[39;49m\u001B[38;5;241;43m.\u001B[39;49m\u001B[43m_reader\u001B[49m\u001B[38;5;241;43m.\u001B[39;49m\u001B[43mread_low_memory\u001B[49m\u001B[43m(\u001B[49m\u001B[43mnrows\u001B[49m\u001B[43m)\u001B[49m\n\u001B[0;32m    231\u001B[0m         \u001B[38;5;66;03m# destructive to chunks\u001B[39;00m\n\u001B[0;32m    232\u001B[0m         data \u001B[38;5;241m=\u001B[39m _concatenate_chunks(chunks)\n",
      "File \u001B[1;32m~\\PycharmProjects\\faceoffs\\venv\\lib\\site-packages\\pandas\\_libs\\parsers.pyx:808\u001B[0m, in \u001B[0;36mpandas._libs.parsers.TextReader.read_low_memory\u001B[1;34m()\u001B[0m\n",
      "File \u001B[1;32m~\\PycharmProjects\\faceoffs\\venv\\lib\\site-packages\\pandas\\_libs\\parsers.pyx:866\u001B[0m, in \u001B[0;36mpandas._libs.parsers.TextReader._read_rows\u001B[1;34m()\u001B[0m\n",
      "File \u001B[1;32m~\\PycharmProjects\\faceoffs\\venv\\lib\\site-packages\\pandas\\_libs\\parsers.pyx:852\u001B[0m, in \u001B[0;36mpandas._libs.parsers.TextReader._tokenize_rows\u001B[1;34m()\u001B[0m\n",
      "File \u001B[1;32m~\\PycharmProjects\\faceoffs\\venv\\lib\\site-packages\\pandas\\_libs\\parsers.pyx:1973\u001B[0m, in \u001B[0;36mpandas._libs.parsers.raise_parser_error\u001B[1;34m()\u001B[0m\n",
      "\u001B[1;31mParserError\u001B[0m: Error tokenizing data. C error: Calling read(nbytes) on source failed. Try engine='python'."
     ]
    }
   ],
   "source": [
    "data = pd.read_csv('C:/Users/Tad/Documents/faceoffs/data_imputed_with_event_zone.csv')\n",
    "print(\"data read\")"
   ],
   "metadata": {
    "collapsed": false
   }
  },
  {
   "cell_type": "code",
   "execution_count": null,
   "outputs": [],
   "source": [
    "# Principal Component Analysis\n",
    "data_all = data.dropna()\n",
    "data_all = data_all[data_all['event_zone'] == 'Off']\n",
    "data = data_all.select_dtypes(['number'])\n",
    "x = data.loc[:, data.columns != 'faceoff_losing_team_xG_since_faceoff']\n",
    "x = x.loc[:, x.columns != 'faceoff_winning_team_xG_since_faceoff']\n",
    "x = x.loc[:, x.columns != 'event_zone'] # We don't want event_zone in the principal components\n",
    "y = data['faceoff_winning_team_xG_since_faceoff']\n",
    "pca = PCA(n_components = 100)\n",
    "print(\"pca fitting\")\n",
    "principal_components = pca.fit_transform(x)\n",
    "print(principal_components)\n",
    "principal_components_df = pd.DataFrame(principal_components)\n",
    "principal_components_df.to_csv(\"principal_components_newest.csv\")"
   ],
   "metadata": {
    "collapsed": false
   }
  },
  {
   "cell_type": "code",
   "execution_count": null,
   "outputs": [],
   "source": [
    "# Prep Train and Test Data\n",
    "objectives = data['faceoff_winning_team_xG_since_faceoff']\n",
    "principal_components_df['faceoff_winning_team_xG_since_faceoff'] = objectives\n",
    "data_no_na = principal_components_df.dropna() # FLAG\n",
    "X = data_no_na.loc[:, data_no_na.columns != 'faceoff_losing_team_xG_since_faceoff']\n",
    "X = X.loc[:, X.columns != 'faceoff_winning_team_xG_since_faceoff']\n",
    "y = data_no_na['faceoff_winning_team_xG_since_faceoff']\n",
    "x_train, x_test, y_train, y_test = train_test_split(X, y, test_size=0.33, random_state=42)\n",
    "print(\"completed train-test split\")"
   ],
   "metadata": {
    "collapsed": false
   }
  },
  {
   "cell_type": "code",
   "execution_count": null,
   "outputs": [],
   "source": [
    "# Build initial, untuned random forest model\n",
    "print(datetime.now())\n",
    "rf_initial = RandomForestRegressor().fit(x_train, y_train)\n",
    "print(\"completed RandomForestRegressor initial fitting\")\n",
    "prediction_initial = rf_initial.predict(x_test)\n",
    "mse_initial = mean_squared_error(y_test, prediction_initial)\n",
    "rmse_initial = mse_initial ** .5\n",
    "print(mse_initial)\n",
    "print(rmse_initial)\n",
    "print(datetime.now())"
   ],
   "metadata": {
    "collapsed": false
   }
  },
  {
   "cell_type": "code",
   "execution_count": null,
   "outputs": [],
   "source": [
    "# Initial Big Picture Tuning using RandomizedSearchCV\n",
    "print(datetime.now())\n",
    "random_grid = { # FLAG\n",
    "    'bootstrap': [True, False],\n",
    "    'max_depth': [10, 25, 50, 100, 500, 1000],\n",
    "    'max_features': ['sqrt', 'log2'],\n",
    "    'min_samples_leaf': [5, 10, 25, 50],\n",
    "    'min_samples_split': [5, 10, 25, 50, 100],\n",
    "    'n_estimators': [100, 200, 400, 600, 8000, 1000, 2000, 5000],\n",
    "}\n",
    "\n",
    "# SOLELY FOR TESTING WHETHER CODE COMPILES (FLAG)\n",
    "# random_grid = {\n",
    "#     'bootstrap': [True],\n",
    "#     'max_depth': [5],\n",
    "#     'max_features': ['auto'],\n",
    "#     'min_samples_leaf': [2],\n",
    "#     'min_samples_split': [2],\n",
    "#     'n_estimators': [15],\n",
    "# }\n",
    "\n",
    "rf_tuning = RandomForestRegressor()\n",
    "rf_random = RandomizedSearchCV(estimator = rf_tuning, param_distributions = random_grid, n_iter = 100, cv = 5, verbose = 2, random_state = 42, n_jobs = -1) # FLAG (n_iter)\n",
    "rf_fit_output = rf_random.fit(x_train, y_train)\n",
    "dump(rf_fit_output, 'rf_randomized_search_cv_fit_off_win.joblib') #FLAG... change suffix\n",
    "print(datetime.now())"
   ],
   "metadata": {
    "collapsed": false
   }
  },
  {
   "cell_type": "code",
   "execution_count": null,
   "outputs": [],
   "source": [
    "# def evaluate(model, test_features, test_labels):\n",
    "#     predictions = model.predict(test_features)\n",
    "#     errors = abs(predictions - test_labels)\n",
    "#     mape = 100 * np.mean(errors / test_labels)\n",
    "#     accuracy = 100 - mape\n",
    "#     print('Model Performance')\n",
    "#     print('Average Error: {:0.4f} degrees.'.format(np.mean(errors)))\n",
    "#     print('Accuracy = {:0.2f}%.'.format(accuracy))\n",
    "#\n",
    "#     return accuracy"
   ],
   "metadata": {
    "collapsed": false
   }
  },
  {
   "cell_type": "code",
   "execution_count": null,
   "outputs": [],
   "source": [
    "best_random = rf_random.best_estimator_\n",
    "# random_accuracy = evaluate(best_random, x_test, y_test)\n",
    "\n",
    "predictions = rf_fit_output.predict(x_test)\n",
    "errors = abs(predictions - y_test)\n",
    "# from sklearn.metrics import r2_score\n",
    "# r_sq = r2_score(y_test, predictions)\n",
    "# mse_grid = mean_squared_error(y_test, predictions)\n",
    "# print(mse_grid)\n",
    "# rmse_grid = mse_grid ** .5\n",
    "# print(rmse_grid)\n",
    "#\n",
    "# # Display the performance metrics\n",
    "# print('Mean Absolute Error:', round(np.mean(errors), 2), 'degrees.')\n",
    "# mape = np.mean(100 * (errors / y_test))\n",
    "# accuracy = 100 - np.mean(mape[np.isfinite(mape)])\n",
    "# print('Accuracy:', round(accuracy, 2), '%.')\n",
    "# See https://stackoverflow.com/questions/58067438/mape-mean-absolute-percentage-error-measurement-in-python-result-in-error#:~:text=mape%20%3D%20100%20*%20(errors%20%2F,')\n",
    "\n",
    "best_bootstrap = best_random.bootstrap\n",
    "best_max_depth = best_random.max_depth\n",
    "best_max_features = best_random.max_features\n",
    "best_min_samples_leaf = best_random.min_samples_leaf\n",
    "best_min_samples_split = best_random.min_samples_split\n",
    "best_n_estimators = best_random.n_estimators\n",
    "\n",
    "best_parameters = rf_fit_output.best_params_"
   ],
   "metadata": {
    "collapsed": false
   }
  },
  {
   "cell_type": "code",
   "execution_count": null,
   "outputs": [],
   "source": [
    "rf_best_param = RandomForestRegressor(bootstrap = best_bootstrap,\n",
    "                                      max_depth = best_max_depth,\n",
    "                                      max_features = best_max_features,\n",
    "                                      min_samples_leaf = best_min_samples_leaf,\n",
    "                                      min_samples_split = best_min_samples_split,\n",
    "                                      n_estimators = best_n_estimators)\n",
    "rf_best_param_fit = rf_best_param.fit(x_train, y_train)\n",
    "\n",
    "dump(rf_best_param_fit, 'rf_best_parameters_fit_off_win.joblib') # FLAG... change suffix"
   ],
   "metadata": {
    "collapsed": false
   }
  },
  {
   "cell_type": "code",
   "execution_count": null,
   "outputs": [],
   "source": [
    "# var_imps = rf_best_param_fit.feature_importances_\n",
    "#\n",
    "# def plot_feature_importance(importance,names,model_type):\n",
    "#     #Create arrays from feature importance and feature names\n",
    "#     feature_importance = np.array(importance)\n",
    "#     feature_names = np.array(names)\n",
    "#\n",
    "#     #Create a DataFrame using a Dictionary\n",
    "#     df ={'feature_names':feature_names,'feature_importance':feature_importance}\n",
    "#     fi_df = pd.DataFrame(df)\n",
    "#\n",
    "#     #Sort the DataFrame in order decreasing feature importance\n",
    "#     fi_df.sort_values(by=['feature_importance'], ascending=False,inplace=True)\n",
    "#\n",
    "#     #Define size of bar plot\n",
    "#     plt.figure(figsize=(10,8))\n",
    "#     #Plot Searborn bar chart\n",
    "#     sns.barplot(x=fi_df['feature_importance'], y=fi_df['feature_names'])\n",
    "#     #Add chart labels\n",
    "#     plt.title(model_type + 'FEATURE IMPORTANCE')\n",
    "#     plt.xlabel('FEATURE IMPORTANCE')\n",
    "#     plt.ylabel('FEATURE NAMES')\n",
    "# plot_feature_importance(rf_best_param_fit.feature_importances_,x_train.columns,'RANDOM FOREST')\n",
    "#\n",
    "# feat_importances_series = pd.Series(var_imps, index=x_train.columns)\n",
    "# feat_importances_series.nlargest(20).plot(kind='barh')"
   ],
   "metadata": {
    "collapsed": false
   }
  },
  {
   "cell_type": "code",
   "execution_count": null,
   "outputs": [],
   "source": [],
   "metadata": {
    "collapsed": false
   }
  }
 ],
 "metadata": {
  "kernelspec": {
   "display_name": "Python 3",
   "language": "python",
   "name": "python3"
  },
  "language_info": {
   "codemirror_mode": {
    "name": "ipython",
    "version": 2
   },
   "file_extension": ".py",
   "mimetype": "text/x-python",
   "name": "python",
   "nbconvert_exporter": "python",
   "pygments_lexer": "ipython2",
   "version": "2.7.6"
  }
 },
 "nbformat": 4,
 "nbformat_minor": 0
}
