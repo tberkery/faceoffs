{
 "cells": [
  {
   "cell_type": "code",
   "execution_count": 2,
   "metadata": {
    "collapsed": true
   },
   "outputs": [],
   "source": [
    "from sklearn.model_selection import train_test_split\n",
    "from sklearn.ensemble import RandomForestRegressor\n",
    "from sklearn.metrics import mean_squared_error\n",
    "from sklearn.model_selection import GridSearchCV\n",
    "from sklearn.decomposition import PCA\n",
    "from datetime import datetime\n",
    "from sklearn.model_selection import RandomizedSearchCV\n",
    "import pandas as pd\n",
    "import numpy as np"
   ]
  },
  {
   "cell_type": "code",
   "execution_count": 3,
   "outputs": [
    {
     "name": "stdout",
     "output_type": "stream",
     "text": [
      "data read\n"
     ]
    }
   ],
   "source": [
    "data = pd.read_csv('C:/Users/Tad/Documents/faceoffs/data_imputed_new.csv')\n",
    "print(\"data read\")"
   ],
   "metadata": {
    "collapsed": false
   }
  },
  {
   "cell_type": "code",
   "execution_count": 18,
   "outputs": [
    {
     "name": "stdout",
     "output_type": "stream",
     "text": [
      "pca fitting\n",
      "[[ 4.97259596e+03  1.70833652e+03 -1.57724395e+03 ... -7.63164774e+00\n",
      "   3.19821289e+01 -1.12290280e+01]\n",
      " [ 4.40869453e+03  1.52419538e+03  2.17256673e+03 ... -6.61638556e+00\n",
      "   4.33062007e+01 -1.39907698e+01]\n",
      " [ 4.25187020e+03  1.96086799e+03 -1.36093998e+03 ... -1.84588734e+01\n",
      "   9.64696894e+00 -8.61302938e+00]\n",
      " ...\n",
      " [ 1.20446786e+03  3.26507015e+03  3.07518015e+02 ...  1.97183387e+01\n",
      "   3.54795547e+00  1.85534938e+01]\n",
      " [-4.87271497e+02 -6.98950537e+02 -7.26494534e+02 ...  1.27280030e+01\n",
      "  -1.78135390e+01 -3.81481005e+01]\n",
      " [ 1.29348065e+03 -1.81383214e+03  1.90210819e+03 ...  1.36607628e+01\n",
      "   9.76680195e+00 -6.53558105e+00]]\n"
     ]
    }
   ],
   "source": [
    "# Principal Component Analysis\n",
    "data = data.select_dtypes(['number']).dropna()\n",
    "x = data.loc[:, data.columns != 'faceoff_losing_team_xG_since_faceoff']\n",
    "x = x.loc[:, x.columns != 'faceoff_winning_team_xG_since_faceoff']\n",
    "y = data['faceoff_winning_team_xG_since_faceoff']\n",
    "pca = PCA(n_components = 100)\n",
    "print(\"pca fitting\")\n",
    "principal_components = pca.fit_transform(x)\n",
    "print(principal_components)\n",
    "principal_components_df = pd.DataFrame(principal_components)\n",
    "principal_components_df.to_csv(\"principal_components_new.csv\")"
   ],
   "metadata": {
    "collapsed": false
   }
  },
  {
   "cell_type": "code",
   "execution_count": 20,
   "outputs": [
    {
     "name": "stdout",
     "output_type": "stream",
     "text": [
      "completed train-test split\n"
     ]
    }
   ],
   "source": [
    "# Prep Train and Test Data\n",
    "objectives = data['faceoff_winning_team_xG_since_faceoff']\n",
    "principal_components_df['faceoff_winning_team_xG_since_faceoff'] = objectives\n",
    "data_no_na = principal_components_df.dropna()\n",
    "X = data_no_na.loc[:, data_no_na.columns != 'faceoff_losing_team_xG_since_faceoff']\n",
    "X = X.loc[:, X.columns != 'faceoff_winning_team_xG_since_faceoff']\n",
    "y = data_no_na['faceoff_winning_team_xG_since_faceoff']\n",
    "x_train, x_test, y_train, y_test = train_test_split(X, y, test_size=0.33, random_state=42)\n",
    "print(\"completed train-test split\")"
   ],
   "metadata": {
    "collapsed": false
   }
  },
  {
   "cell_type": "code",
   "execution_count": null,
   "outputs": [
    {
     "name": "stdout",
     "output_type": "stream",
     "text": [
      "2022-12-06 22:56:37.864961\n"
     ]
    }
   ],
   "source": [
    "# Build initial, untuned random forest model\n",
    "print(datetime.now())\n",
    "rf_initial = RandomForestRegressor().fit(x_train, y_train)\n",
    "print(\"completed RandomForestRegressor initial fitting\")\n",
    "prediction_initial = rf_initial.predict(x_test)\n",
    "mse_initial = mean_squared_error(y_test, prediction_initial)\n",
    "rmse_initial = mse_initial ** .5\n",
    "print(mse_initial)\n",
    "print(rmse_initial)\n",
    "print(datetime.now())"
   ],
   "metadata": {
    "collapsed": false,
    "pycharm": {
     "is_executing": true
    }
   }
  },
  {
   "cell_type": "code",
   "execution_count": null,
   "outputs": [],
   "source": [
    "# Initial Big Picture Tuning using RandomizedSearchCV\n",
    "print(datetime.now())\n",
    "# random_grid = {\n",
    "#     'bootstrap': [True, False],\n",
    "#     'max_depth': [10, 25, 50, 100, 500, 1000],\n",
    "#     'max_features': ['sqrt', 'auto'],\n",
    "#     'min_samples_leaf': [5, 10, 25, 50],\n",
    "#     'min_samples_split': [5, 10, 25, 50, 100],\n",
    "#     'n_estimators': [100, 200, 400, 600, 8000, 1000, 2000, 5000],\n",
    "# }\n",
    "\n",
    "random_grid = {\n",
    "    'bootstrap': [True],\n",
    "    'max_depth': [5],\n",
    "    'max_features': ['auto'],\n",
    "    'min_samples_leaf': [2],\n",
    "    'min_samples_split': [2],\n",
    "    'n_estimators': [15],\n",
    "}\n",
    "\n",
    "rf_tuning = RandomForestRegressor()\n",
    "rf_random = RandomizedSearchCV(estimator = rf_tuning, param_distributions = random_grid, n_iter = 10, cv = 3, verbose = 2, random_state = 42, n_jobs = -1)\n",
    "rf_fit_output = rf_random.fit(x_train, y_train)\n",
    "\n",
    "print(datetime.now())"
   ],
   "metadata": {
    "collapsed": false
   }
  }
 ],
 "metadata": {
  "kernelspec": {
   "display_name": "Python 3",
   "language": "python",
   "name": "python3"
  },
  "language_info": {
   "codemirror_mode": {
    "name": "ipython",
    "version": 2
   },
   "file_extension": ".py",
   "mimetype": "text/x-python",
   "name": "python",
   "nbconvert_exporter": "python",
   "pygments_lexer": "ipython2",
   "version": "2.7.6"
  }
 },
 "nbformat": 4,
 "nbformat_minor": 0
}
