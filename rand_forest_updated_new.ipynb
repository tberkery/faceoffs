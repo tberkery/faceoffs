{
 "cells": [
  {
   "cell_type": "code",
   "execution_count": 1,
   "metadata": {},
   "outputs": [],
   "source": [
    "from sklearn.model_selection import train_test_split\n",
    "from sklearn.ensemble import RandomForestRegressor\n",
    "from sklearn.metrics import mean_squared_error\n",
    "from sklearn.model_selection import GridSearchCV\n",
    "from sklearn.decomposition import PCA\n",
    "from datetime import datetime\n",
    "from sklearn.model_selection import RandomizedSearchCV\n",
    "from sklearn.preprocessing import OneHotEncoder\n",
    "from joblib import dump, load\n",
    "import pandas as pd\n",
    "import numpy as np\n",
    "import matplotlib.pyplot as plt\n",
    "import seaborn as sns\n"
   ]
  },
  {
   "cell_type": "code",
   "execution_count": 2,
   "metadata": {},
   "outputs": [
    {
     "name": "stdout",
     "output_type": "stream",
     "text": [
      "data read\n"
     ]
    }
   ],
   "source": [
    "data = pd.read_csv('C:/Users/Tad/Documents/faceoffs/dataset_300k_rel_cols_no_na_processed_subset.csv')\n",
    "print(\"data read\")"
   ]
  },
  {
   "cell_type": "code",
   "execution_count": 3,
   "metadata": {},
   "outputs": [],
   "source": [
    "# Principal Component Analysis\n",
    "data_all = data.dropna()\n",
    "#data_all = data_all[data_all['event_zone'] == 'Off']\n",
    "data = data_all.select_dtypes(['number'])\n",
    "x = data.loc[:, data.columns != 'net_xg']\n",
    "x = x.loc[:, x.columns != 'net_xg']\n",
    "y = data['net_xg']\n",
    "#pca = PCA(n_components = 100)\n",
    "#print(\"pca fitting\")\n",
    "#principal_components = pca.fit_transform(x)\n",
    "#print(principal_components)\n",
    "#principal_components_df = pd.DataFrame(principal_components)\n",
    "#principal_components_df.to_csv(\"principal_components_newest.csv\")"
   ]
  },
  {
   "cell_type": "code",
   "execution_count": 4,
   "metadata": {},
   "outputs": [
    {
     "name": "stdout",
     "output_type": "stream",
     "text": [
      "completed train-test split\n"
     ]
    }
   ],
   "source": [
    "# Prep Train and Test Data\n",
    "objectives = data['net_xg']\n",
    "#principal_components_df['net_xg'] = objectives\n",
    "#data_no_na = principal_components_df.dropna() # FLAG\n",
    "#data_no_na = data.dropna()\n",
    "#X = data_no_na.loc[:, data_no_na.columns != 'net_xg']\n",
    "#X = X.loc[:, X.columns != 'net_xg']\n",
    "#X = OneHotEncoder(categories = 'auto').fit_transform(X)\n",
    "#y = data_no_na['net_xg']\n",
    "x_train, x_test, y_train, y_test = train_test_split(x, y, test_size=0.33, random_state=42) # X became x\n",
    "print(\"completed train-test split\")"
   ]
  },
  {
   "cell_type": "code",
   "execution_count": 5,
   "metadata": {},
   "outputs": [
    {
     "name": "stdout",
     "output_type": "stream",
     "text": [
      "2023-04-13 14:29:37.108389\n"
     ]
    }
   ],
   "source": [
    "# Build initial, untuned random forest model\n",
    "print(datetime.now())\n",
    "# rf_initial = RandomForestRegressor().fit(x_train, y_train)\n",
    "# print(\"completed RandomForestRegressor initial fitting\")\n",
    "# prediction_initial = rf_initial.predict(x_test)\n",
    "# mse_initial = mean_squared_error(y_test, prediction_initial)\n",
    "# rmse_initial = mse_initial ** .5\n",
    "# print(mse_initial)\n",
    "# print(rmse_initial)\n",
    "# print(datetime.now())"
   ]
  },
  {
   "cell_type": "code",
   "execution_count": 6,
   "metadata": {
    "pycharm": {
     "is_executing": true
    }
   },
   "outputs": [
    {
     "name": "stdout",
     "output_type": "stream",
     "text": [
      "2023-04-13 14:29:38.392406\n",
      "Fitting 5 folds for each of 100 candidates, totalling 500 fits\n",
      "writing joblib\n",
      "2023-04-13 14:43:36.824373\n"
     ]
    }
   ],
   "source": [
    "# Initial Big Picture Tuning using RandomizedSearchCV\n",
    "print(datetime.now())\n",
    "\n",
    "# random_grid = { # FLAG\n",
    "#     'bootstrap': [True],\n",
    "#     'max_depth': [10, 25, 50, 100, 500, 1000],\n",
    "#     'max_features': ['sqrt', 'log2'],\n",
    "#     'min_samples_leaf': [5, 10],\n",
    "#     'min_samples_split': [5, 10, 25, 50],\n",
    "#     'n_estimators': [100, 250, 500, 1000],\n",
    "# }\n",
    "random_grid = { # FLAG\n",
    "    'bootstrap': [True, False],\n",
    "    'max_depth': [10, 25, 50, 100, 500, 1000],\n",
    "    'max_features': ['sqrt', 'log2'],\n",
    "    'min_samples_leaf': [5, 10, 25, 50],\n",
    "    'min_samples_split': [5, 10, 25, 50, 100],\n",
    "    'n_estimators': [100, 200, 400, 600, 800, 1000, 2000, 5000],\n",
    "}\n",
    "\n",
    "# SOLELY FOR TESTING WHETHER CODE COMPILES (FLAG)\n",
    "# random_grid = {\n",
    "#     'bootstrap': [True],\n",
    "#     'max_depth': [5],\n",
    "#     'max_features': ['auto'],\n",
    "#     'min_samples_leaf': [2],\n",
    "#     'min_samples_split': [2],\n",
    "#     'n_estimators': [15],\n",
    "# }\n",
    "\n",
    "rf_tuning = RandomForestRegressor()\n",
    "rf_random = RandomizedSearchCV(estimator = rf_tuning, param_distributions = random_grid, n_iter = 100, cv = 5, verbose = 2, random_state = 42, n_jobs = -1) # FLAG (n_iter)\n",
    "rf_fit_output = rf_random.fit(x_train, y_train)\n",
    "print(\"writing joblib\")\n",
    "dump(rf_fit_output, 'rf_updated_new2.joblib') #FLAG... change suffix\n",
    "print(datetime.now())"
   ]
  },
  {
   "cell_type": "code",
   "execution_count": 7,
   "metadata": {
    "pycharm": {
     "is_executing": true
    }
   },
   "outputs": [],
   "source": [
    "# def evaluate(model, test_features, test_labels):\n",
    "#     predictions = model.predict(test_features)\n",
    "#     errors = abs(predictions - test_labels)\n",
    "#     mape = 100 * np.mean(errors / test_labels)\n",
    "#     accuracy = 100 - mape\n",
    "#     print('Model Performance')\n",
    "#     print('Average Error: {:0.4f} degrees.'.format(np.mean(errors)))\n",
    "#     print('Accuracy = {:0.2f}%.'.format(accuracy))\n",
    "#\n",
    "#     return accuracy"
   ]
  },
  {
   "cell_type": "code",
   "execution_count": 8,
   "metadata": {
    "pycharm": {
     "is_executing": true
    }
   },
   "outputs": [],
   "source": [
    "best_random = rf_random.best_estimator_\n",
    "# random_accuracy = evaluate(best_random, x_test, y_test)\n",
    "\n",
    "predictions = rf_fit_output.predict(x_test)\n",
    "errors = abs(predictions - y_test)\n",
    "# from sklearn.metrics import r2_score\n",
    "# r_sq = r2_score(y_test, predictions)\n",
    "# mse_grid = mean_squared_error(y_test, predictions)\n",
    "# print(mse_grid)\n",
    "# rmse_grid = mse_grid ** .5\n",
    "# print(rmse_grid)\n",
    "#\n",
    "# # Display the performance metrics\n",
    "# print('Mean Absolute Error:', round(np.mean(errors), 2), 'degrees.')\n",
    "# mape = np.mean(100 * (errors / y_test))\n",
    "# accuracy = 100 - np.mean(mape[np.isfinite(mape)])\n",
    "# print('Accuracy:', round(accuracy, 2), '%.')\n",
    "# See https://stackoverflow.com/questions/58067438/mape-mean-absolute-percentage-error-measurement-in-python-result-in-error#:~:text=mape%20%3D%20100%20*%20(errors%20%2F,')\n",
    "\n",
    "best_bootstrap = best_random.bootstrap\n",
    "best_max_depth = best_random.max_depth\n",
    "best_max_features = best_random.max_features\n",
    "best_min_samples_leaf = best_random.min_samples_leaf\n",
    "best_min_samples_split = best_random.min_samples_split\n",
    "best_n_estimators = best_random.n_estimators\n",
    "\n",
    "best_parameters = rf_fit_output.best_params_\n"
   ]
  },
  {
   "cell_type": "code",
   "execution_count": 9,
   "metadata": {
    "pycharm": {
     "is_executing": true
    }
   },
   "outputs": [
    {
     "data": {
      "text/plain": [
       "['rf_updated_new_best2.joblib']"
      ]
     },
     "execution_count": 9,
     "metadata": {},
     "output_type": "execute_result"
    }
   ],
   "source": [
    "rf_best_param = RandomForestRegressor(bootstrap = best_bootstrap,\n",
    "                                      max_depth = best_max_depth,\n",
    "                                      max_features = best_max_features,\n",
    "                                      min_samples_leaf = best_min_samples_leaf,\n",
    "                                      min_samples_split = best_min_samples_split,\n",
    "                                      n_estimators = best_n_estimators)\n",
    "rf_best_param_fit = rf_best_param.fit(x_train, y_train)\n",
    "dump(rf_best_param_fit, 'rf_updated_new_best2.joblib') # FLAG... change suffix"
   ]
  },
  {
   "cell_type": "code",
   "execution_count": 17,
   "metadata": {},
   "outputs": [
    {
     "name": "stdout",
     "output_type": "stream",
     "text": [
      "0.0031043726043757506\n",
      "0.055716896937784956\n",
      "0.04011469677896279\n"
     ]
    }
   ],
   "source": [
    "prediction = rf_best_param_fit.predict(x_test)\n",
    "mse = mean_squared_error(y_test, prediction)\n",
    "rmse = mse**.5\n",
    "print(mse)\n",
    "print(rmse)\n",
    "print(pd.Series(prediction).corr(y_test, method = 'pearson'))"
   ]
  },
  {
   "cell_type": "code",
   "execution_count": 10,
   "metadata": {
    "pycharm": {
     "is_executing": true
    }
   },
   "outputs": [
    {
     "data": {
      "text/plain": [
       "<Axes: title={'center': 'RANDOM FOREST FEATURE IMPORTANCE'}, ylabel='FEATURE NAMES'>"
      ]
     },
     "execution_count": 10,
     "metadata": {},
     "output_type": "execute_result"
    },
    {
     "data": {
      "image/png": "[encoded data removed]",
      "text/plain": [
       "<Figure size 1000x800 with 1 Axes>"
      ]
     },
     "metadata": {},
     "output_type": "display_data"
    }
   ],
   "source": [
    "var_imps = rf_best_param_fit.feature_importances_\n",
    "\n",
    "def plot_feature_importance(importance,names,model_type):\n",
    "    #Create arrays from feature importance and feature names\n",
    "    feature_importance = np.array(importance)\n",
    "    feature_names = np.array(names)\n",
    "\n",
    "    #Create a DataFrame using a Dictionary\n",
    "    df ={'feature_names':feature_names,'feature_importance':feature_importance}\n",
    "    fi_df = pd.DataFrame(df)\n",
    "\n",
    "    #Sort the DataFrame in order decreasing feature importance\n",
    "    fi_df.sort_values(by=['feature_importance'], ascending=False,inplace=True)\n",
    "\n",
    "    #Define size of bar plot\n",
    "    plt.figure(figsize=(10,8))\n",
    "    #Plot Searborn bar chart\n",
    "    sns.barplot(x=fi_df['feature_importance'], y=fi_df['feature_names'])\n",
    "    #Add chart labels\n",
    "    plt.title(model_type + 'FEATURE IMPORTANCE')\n",
    "    plt.xlabel('FEATURE IMPORTANCE')\n",
    "    plt.ylabel('FEATURE NAMES')\n",
    "\n",
    "plot_feature_importance(rf_best_param_fit.feature_importances_, x_train.columns,'RANDOM FOREST ')\n",
    "\n",
    "feat_importances_series = pd.Series(var_imps, index=x_train.columns)\n",
    "feat_importances_series.nlargest(50).plot(kind='barh')"
   ]
  },
  {
   "cell_type": "code",
   "execution_count": null,
   "metadata": {
    "pycharm": {
     "is_executing": true
    }
   },
   "outputs": [],
   "source": []
  },
  {
   "cell_type": "code",
   "execution_count": null,
   "metadata": {
    "pycharm": {
     "is_executing": true
    }
   },
   "outputs": [],
   "source": []
  }
 ],
 "metadata": {
  "kernelspec": {
   "display_name": "Python 3 (ipykernel)",
   "language": "python",
   "name": "python3"
  },
  "language_info": {
   "codemirror_mode": {
    "name": "ipython",
    "version": 3
   },
   "file_extension": ".py",
   "mimetype": "text/x-python",
   "name": "python",
   "nbconvert_exporter": "python",
   "pygments_lexer": "ipython3",
   "version": "3.10.11"
  }
 },
 "nbformat": 4,
 "nbformat_minor": 1
}
